{
  "nbformat": 4,
  "nbformat_minor": 0,
  "metadata": {
    "colab": {
      "name": "titanic (2nd try).ipynb",
      "provenance": [],
      "machine_shape": "hm",
      "mount_file_id": "1JfggcacY2QdKq-XY03dPfURu4r2iLLPg",
      "authorship_tag": "ABX9TyNiHrWm53SFH8VxrmtkfU9e",
      "include_colab_link": true
    },
    "kernelspec": {
      "name": "python3",
      "display_name": "Python 3"
    },
    "language_info": {
      "name": "python"
    }
  },
  "cells": [
    {
      "cell_type": "markdown",
      "metadata": {
        "id": "view-in-github",
        "colab_type": "text"
      },
      "source": [
        "<a href=\"https://colab.research.google.com/github/Hesh0629/Hesh0629/blob/main/titanic_(2nd_try).ipynb\" target=\"_parent\"><img src=\"https://colab.research.google.com/assets/colab-badge.svg\" alt=\"Open In Colab\"/></a>"
      ]
    },
    {
      "cell_type": "code",
      "metadata": {
        "id": "mgblIqrBY6_o"
      },
      "source": [
        "import pandas as pd\n",
        "import numpy as np\n",
        "import matplotlib.pyplot as plt"
      ],
      "execution_count": null,
      "outputs": []
    },
    {
      "cell_type": "code",
      "metadata": {
        "id": "0su_jhiOZ-pe"
      },
      "source": [
        "train_data=pd.read_csv('/content/drive/MyDrive/titanic_train.csv')\n",
        "test_data=pd.read_csv('/content/drive/MyDrive/titanic_test.csv')\n",
        "total_data=[train_data,test_data]"
      ],
      "execution_count": null,
      "outputs": []
    },
    {
      "cell_type": "code",
      "metadata": {
        "id": "pZN1bRx0s0_B"
      },
      "source": [
        "print(train_data.isnull().sum(),test_data.isnull().sum())\n",
        "print(train_data,test_data)"
      ],
      "execution_count": null,
      "outputs": []
    },
    {
      "cell_type": "code",
      "metadata": {
        "id": "tJYoQM1wtm_h"
      },
      "source": [
        "sex_mapping = {\"male\": 0, \"female\":1}\n",
        "em_mapping = {\"S\": 0, \"C\":1,\"Q\":2}\n",
        "title_mapping = {\"Mr\":0, \"Miss\":1, \"Mrs\":2,\n",
        "                \"Master\":3, \"Dr\":3, \"Rev\":3, \"Col\": 3, 'Ms': 3, 'Mlle': 3, \"Major\": 3, 'Lady': 3, 'Capt': 3,\n",
        "                 'Sir': 3, 'Don': 3, 'Mme':3, 'Jonkheer': 3, 'Countess': 3 }\n",
        "for dataset in total_data:\n",
        "    dataset['Sex'] = dataset['Sex'].map(sex_mapping)\n",
        "    dataset['Embarked'] = dataset['Embarked'].map(em_mapping)\n",
        "    dataset['Title'] = dataset['Name'].str.extract('([A-za-z]+)\\.', expand=False)\n",
        "    dataset['Title'] = dataset['Title'].map(title_mapping)"
      ],
      "execution_count": null,
      "outputs": []
    },
    {
      "cell_type": "markdown",
      "metadata": {
        "id": "KSzThp7MMbH8"
      },
      "source": [
        "**2021.04.17  \n",
        "Cabin, Ticket을 날려먹었는데 이 부분에서 잘못된 듯 하다**"
      ]
    },
    {
      "cell_type": "code",
      "metadata": {
        "id": "cncffTxJz2Xt"
      },
      "source": [
        "train_data.drop('Name',axis=1,inplace=True)\n",
        "train_data.drop('Cabin',axis=1,inplace=True)\n",
        "train_data.drop('Ticket',axis=1,inplace=True)\n",
        "test_data.drop('Name',axis=1,inplace=True)\n",
        "test_data.drop('Cabin',axis=1,inplace=True)\n",
        "test_data.drop('Ticket',axis=1,inplace=True)"
      ],
      "execution_count": null,
      "outputs": []
    },
    {
      "cell_type": "code",
      "metadata": {
        "id": "kL9EJfMn1mTM"
      },
      "source": [
        "train_label=train_data['Survived']\n",
        "train_data.drop('Survived',axis=1,inplace=True)"
      ],
      "execution_count": null,
      "outputs": []
    },
    {
      "cell_type": "code",
      "metadata": {
        "id": "kyXLO80P2knC"
      },
      "source": [
        "train_data.drop('PassengerId',axis=1,inplace=True)\n",
        "test_id=test_data['PassengerId']\n",
        "test_data.drop('PassengerId',axis=1,inplace=True)"
      ],
      "execution_count": null,
      "outputs": []
    },
    {
      "cell_type": "code",
      "metadata": {
        "id": "NuaGVIqoyWxO"
      },
      "source": [
        "train_data['Age'].fillna(train_data.groupby('Title')['Age'].transform('median'), inplace=True)\n",
        "test_data['Age'].fillna(test_data.groupby('Title')['Age'].transform('median'), inplace=True)\n",
        "train_data['Embarked']=train_data['Embarked'].fillna(0)\n",
        "test_data['Embarked']=test_data['Embarked'].fillna(0)\n",
        "test_data['Fare'].fillna(test_data.mean()['Fare'], inplace=True)\n",
        "test_data['Title'].fillna(3,inplace=True)"
      ],
      "execution_count": null,
      "outputs": []
    },
    {
      "cell_type": "code",
      "metadata": {
        "id": "fpwqsL7s5wgX"
      },
      "source": [
        "train_data=(train_data-train_data.mean())/train_data.std()\n",
        "test_data=(test_data-train.mean())/train.std()"
      ],
      "execution_count": null,
      "outputs": []
    },
    {
      "cell_type": "code",
      "metadata": {
        "id": "GrN4XlBz29hk"
      },
      "source": [
        "from sklearn.ensemble import RandomForestClassifier\n",
        "from sklearn.metrics import accuracy_score\n",
        "from sklearn.model_selection import GridSearchCV\n",
        "from sklearn.ensemble import AdaBoostClassifier\n",
        "\n",
        "tree=RandomForestClassifier()\n",
        "params = { 'n_estimators' : [10,11,12,13,14,15,20,25],\n",
        "           'max_depth' : [7,8,9,10,11,12,13,14,15,16,17,18,19,20], #깊을수록 과적합\n",
        "           'min_samples_leaf' : [2,3,4,5,6,7,8], #과적합 제어용, 작을수록 과적합\n",
        "           'min_samples_split' :  [1,2,3,4,5,6,7,8] #적을수록 과적합\n",
        "            } #파라미터 범위를 설정\n",
        "          \n",
        "grid_cv=GridSearchCV(tree, param_grid=params,cv=4,n_jobs=-1) #CV는 Kfold에서 K와 같음, \n",
        "grid_cv.fit(train_data,train_label)\n",
        " \n",
        "print('최적 하이퍼 파라미터: ', grid_cv.best_params_)\n",
        "print('최고 예측 정확도: {:.4f}'.format(grid_cv.best_score_))\n",
        "tree=grid_cv.best_estimator_"
      ],
      "execution_count": null,
      "outputs": []
    },
    {
      "cell_type": "code",
      "metadata": {
        "id": "8H3wumML9xjE"
      },
      "source": [
        "tree=grid_cv.best_estimator_\n",
        "result=tree.predict(test_data)"
      ],
      "execution_count": null,
      "outputs": []
    },
    {
      "cell_type": "code",
      "metadata": {
        "id": "Hanhra6kWajF"
      },
      "source": [
        "res=pd.DataFrame(data={'PassengerId':test_id.astype('int'), 'Survived':result})\n",
        "res.to_csv('Prediction_4.csv',index=False)"
      ],
      "execution_count": null,
      "outputs": []
    },
    {
      "cell_type": "code",
      "metadata": {
        "colab": {
          "base_uri": "https://localhost:8080/"
        },
        "id": "d5TA1nfsGUyM",
        "outputId": "f548d1fb-b6d3-4734-e49a-fe522fc8bb1f"
      },
      "source": [
        "from xgboost import XGBClassifier\n",
        "from sklearn.model_selection import GridSearchCV\n",
        "\n",
        "boost=XGBClassifier()\n",
        "param={'booster' :['gbtree'],  #부스팅 과정에서 이용할 트리종류 (수정x)\n",
        "                 'silent':[True], #verbose랑 같다\n",
        "                 'max_depth':[4,5,6,8,9], #\n",
        "                 'min_child_weight':[1,3,5,7,9,11], #값이 높을수록 과소적합 발생\n",
        "                 'gamma':[0.5,1,1.5,2,2.5], #노드가 split 되기 위한 loss function의 값이 감소하는 최소값. 클수록 모델이 덜 바뀜\n",
        "                 'nthread':[1], #XG Boost를 실행하기 위한 cpu 스레드 개수\n",
        "                 #'eta':[0.0001,0.0005],\n",
        "                 #'colsample_bytree':[0.9], # 트리 생성시 훈련 데이터에서 변수를 샘플링 하는 비율 (0~1)\n",
        "                 #'colsample_bylevel':[0.9], # 트리의 레벨별로 훈련 데이터의 변수를 샘플링 하는 비율\n",
        "                 'n_estimators':[450,500,550,600], #트리 개수\n",
        "                 'objective':['binary:logistic'], #회귀인 경우 'reg:linear',이중 분류 'binary:logistic',분류된 클래스를 반환하는 경우 'multi:softmax', 클래스에 속한 확률'multi:softprob'\n",
        "                 'random_state':[2]} #random seed nuber임. 숫자 고정해 두면 동일한 데이터 셋을 얻을 수 잇음\n",
        " \n",
        "gcv=GridSearchCV(boost, param_grid=param, cv=3, scoring='f1', n_jobs=-1) #이진분류에서 scoring은 f1, n_jobs -1로 두면 모든 코어 조지기\n",
        "gcv.fit(train_data,train_label)\n",
        "print(gcv.best_params_,\" \",gcv.best_score_)"
      ],
      "execution_count": null,
      "outputs": [
        {
          "output_type": "stream",
          "text": [
            "{'booster': 'gbtree', 'gamma': 0.5, 'max_depth': 8, 'min_child_weight': 7, 'n_estimators': 450, 'nthread': 1, 'objective': 'binary:logistic', 'random_state': 2, 'silent': True}   0.7779408567079799\n"
          ],
          "name": "stdout"
        }
      ]
    },
    {
      "cell_type": "code",
      "metadata": {
        "id": "8LRMHCqxGW8C"
      },
      "source": [
        "boost=gcv.best_estimator_\n",
        "result=boost.predict(test_data)"
      ],
      "execution_count": null,
      "outputs": []
    },
    {
      "cell_type": "code",
      "metadata": {
        "id": "mUVZUg7YBb4h"
      },
      "source": [
        "res=pd.DataFrame(data={'PassengerId':test_id.astype('int'), 'Survived':result})\n",
        "res.to_csv('Prediction_4.csv',index=False)"
      ],
      "execution_count": null,
      "outputs": []
    },
    {
      "cell_type": "code",
      "metadata": {
        "colab": {
          "base_uri": "https://localhost:8080/"
        },
        "id": "_LwCBYXuNdt1",
        "outputId": "05e878cb-d918-4a66-8220-b0bc76e2784d"
      },
      "source": [
        "from sklearn.ensemble import AdaBoostClassifier\n",
        "\n",
        "ad=AdaBoostClassifier()\n",
        "params = { 'n_estimators' : [700,800,900,100],\n",
        "          'learning_rate' : [0.8,0.7,0.6,0.5], #AdaBoost는 줄어드는 쪽으로 해줘야함\n",
        "          'random_state':[2]} #파라미터 범위를 설정\n",
        "          \n",
        "grid_cv=GridSearchCV(ad,param_grid=params,cv=4,n_jobs=-1) #CV는 Kfold에서 K와 같음, \n",
        "grid_cv.fit(train_data,train_label)\n",
        " \n",
        "print('최적 하이퍼 파라미터: ', grid_cv.best_params_)\n",
        "print('최고 예측 정확도: {:.4f}'.format(grid_cv.best_score_))\n",
        "ad=grid_cv.best_estimator_"
      ],
      "execution_count": 304,
      "outputs": [
        {
          "output_type": "stream",
          "text": [
            "최적 하이퍼 파라미터:  {'learning_rate': 0.6, 'n_estimators': 800, 'random_state': 2}\n",
            "최고 예측 정확도: 0.8092\n"
          ],
          "name": "stdout"
        }
      ]
    },
    {
      "cell_type": "markdown",
      "metadata": {
        "id": "mPE6hnQdUUd3"
      },
      "source": [
        "https://www.kaggle.com/treina/titanic-with-adaboost  \n",
        "이게뭐노"
      ]
    },
    {
      "cell_type": "code",
      "metadata": {
        "id": "3TN3giusRQ0Z"
      },
      "source": [
        "#ad=AdaBoostClassifier(RandomForestClassifier(n_estimators = 1000),algorithm=\"SAMME\",n_estimators=500,learning_rate=0.5)\n",
        "result=ad.predict(test_data)"
      ],
      "execution_count": 305,
      "outputs": []
    },
    {
      "cell_type": "code",
      "metadata": {
        "id": "IoxWPgcXRWYy"
      },
      "source": [
        "res=pd.DataFrame(data={'PassengerId':test_id.astype('int'), 'Survived':result})\n",
        "res.to_csv('Prediction_9.csv',index=False)"
      ],
      "execution_count": 306,
      "outputs": []
    },
    {
      "cell_type": "code",
      "metadata": {
        "id": "Oyrl0cJZRvuh"
      },
      "source": [
        "print(train_data,test_data)"
      ],
      "execution_count": null,
      "outputs": []
    }
  ]
}
